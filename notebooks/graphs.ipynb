{
 "cells": [
  {
   "cell_type": "code",
   "execution_count": 1,
   "metadata": {},
   "outputs": [],
   "source": [
    "%load_ext autoreload\n",
    "%autoreload 2"
   ]
  },
  {
   "cell_type": "code",
   "execution_count": 3,
   "metadata": {},
   "outputs": [],
   "source": [
    "import pandas as pd\n",
    "import numpy as np\n",
    "import sys\n",
    "import matplotlib.pyplot as plt\n",
    "import seaborn as sns\n",
    "import os \n",
    "sns.set()\n",
    "\n",
    "%matplotlib inline\n",
    "import warnings\n",
    "warnings.filterwarnings('ignore')\n",
    "\n",
    "# https://abdalimran.github.io/2019-06-01/Drawing-multiple-ROC-Curves-in-a-single-plot"
   ]
  },
  {
   "cell_type": "code",
   "execution_count": 26,
   "metadata": {},
   "outputs": [
    {
     "data": {
      "image/png": "[encoded data removed]",
      "text/plain": [
       "<Figure size 720x288 with 1 Axes>"
      ]
     },
     "metadata": {
      "needs_background": "light"
     },
     "output_type": "display_data"
    }
   ],
   "source": [
    "#labels = ['Baseline', 'MaskSup']\n",
    "labels = ['mAP', 'CR', 'CF1']\n",
    "\n",
    "# VOC\n",
    "auc = [67.9, 40.6, 55.0] # base\n",
    "acc_nst = [86.7, 71.3, 79.0]\n",
    "\n",
    "# COCO\n",
    "# auc = [54.2,36.0,48.4] # base\n",
    "# acc_nst = [74.8,59.4,68.8]\n",
    "\n",
    "\n",
    "\n",
    "# polyp - CVC-ClinicDB\n",
    "# auc = [69.737,81.385] # base\n",
    "# acc_nst = [72.513,82.444] # cb\n",
    "# acc = [73.599, 84.022] # cb ts\n",
    "\n",
    "# NYU\n",
    "# auc = [33.602,34.742] # base\n",
    "# acc_nst = [38.261,39.118] # cb\n",
    "# acc = [38.535,39.313] # cb ts\n",
    "\n",
    "\n",
    "x = np.arange(len(labels))  # the label locations\n",
    "dummy = np.arange(10)\n",
    "\n",
    "width = 0.25 #0.4  # the width of the bars\n",
    "\n",
    "\n",
    "\n",
    "fig, ax = plt.subplots()\n",
    "\n",
    "rects1 = ax.bar(x - width/2, auc, width, label='Baseline')\n",
    "rects2 = ax.bar(x + width/2, acc_nst, width, label='MaskSup')\n",
    "#rects211 = ax.bar(x + width/2 * 3.08, acc, width, label='CF1')\n",
    "\n",
    "ax.set_ylabel('Score (%)', fontsize=20)\n",
    "#ax.set_title('Results')\n",
    "ax.set_xticks(x)\n",
    "ax.set_xticklabels(labels, rotation=0, fontsize=20)\n",
    "\n",
    "#for i in range(18):\n",
    "#    ax.get_xticklabels()[i].set_color(\"white\")\n",
    "\n",
    "# Scne\n",
    "#ax.set_ylim([30, 44])\n",
    "# polyp\n",
    "#ax.set_ylim([65,90])\n",
    "# Glas\n",
    "ax.set_ylim([30,100])\n",
    "\n",
    "#ax.legend(loc=\"upper left\", prop={'size': 14})\n",
    "ax.grid(True)\n",
    "\n",
    "def autolabel(rects):\n",
    "    \"\"\"Attach a text label above each bar in *rects*, displaying its height.\"\"\"\n",
    "    for rect in rects:\n",
    "        height = rect.get_height()\n",
    "        ax.annotate('{:.2f}'.format(height),\n",
    "                    xy=(rect.get_x() + rect.get_width() / 2, height),\n",
    "                    xytext=(0, 3),  # 3 points vertical offset\n",
    "                    textcoords=\"offset points\",\n",
    "                    ha='center', va='bottom', rotation=0, fontsize=15)\n",
    "        #ax.set_ylim(ymin=1)\n",
    "        \n",
    "\n",
    "def autolabel_(rects):\n",
    "    \"\"\"Attach a text label above each bar in *rects*, displaying its height.\"\"\"\n",
    "    for rect in rects:\n",
    "        height = rect.get_height()\n",
    "        ax.annotate('{:.2f}'.format(height),\n",
    "                    xy=(rect.get_x() + rect.get_width() / 2, height),\n",
    "                    xytext=(0, 3),  # 3 points vertical offset\n",
    "                    textcoords=\"offset points\",\n",
    "                    ha='center', va='bottom', rotation=0, fontsize=15)\n",
    "        #ax.set_ylim(ymin=1)\n",
    "\n",
    "\n",
    "autolabel(rects1) # %\n",
    "autolabel(rects2)\n",
    "#autolabel_(rects211) # %\n",
    "\n",
    "fig.tight_layout()\n",
    "fig.set_size_inches(10, 4, forward=True)\n",
    "plt.title('MS-COCO (\\u2191)', loc='left', fontsize=25, color='gray', pad=12)\n",
    "#plt.legend(loc='upper right', fontsize=18)\n",
    "plt.savefig(\"../logs/robustness_voc.pdf\", bbox_inches='tight', pad_inches=0, dpi=300)\n",
    "plt.show()"
   ]
  },
  {
   "cell_type": "code",
   "execution_count": null,
   "metadata": {},
   "outputs": [],
   "source": []
  }
 ],
 "metadata": {
  "kernelspec": {
   "display_name": "dev",
   "language": "python",
   "name": "python3"
  },
  "language_info": {
   "codemirror_mode": {
    "name": "ipython",
    "version": 3
   },
   "file_extension": ".py",
   "mimetype": "text/x-python",
   "name": "python",
   "nbconvert_exporter": "python",
   "pygments_lexer": "ipython3",
   "version": "3.8.13"
  },
  "orig_nbformat": 4,
  "vscode": {
   "interpreter": {
    "hash": "6f992f7db62b59d8ee09ff6871d0e5d93fda538d5e46ca9f3d81cc10adfb1560"
   }
  }
 },
 "nbformat": 4,
 "nbformat_minor": 2
}
