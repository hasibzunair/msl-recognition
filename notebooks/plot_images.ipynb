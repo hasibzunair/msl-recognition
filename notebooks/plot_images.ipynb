{
 "cells": [
  {
   "cell_type": "markdown",
   "metadata": {},
   "source": [
    "### Plot montage of images"
   ]
  },
  {
   "cell_type": "code",
   "execution_count": null,
   "metadata": {},
   "outputs": [],
   "source": [
    "%load_ext autoreload\n",
    "%autoreload 2"
   ]
  },
  {
   "cell_type": "code",
   "execution_count": null,
   "metadata": {},
   "outputs": [],
   "source": [
    "import os,sys,inspect\n",
    "sys.path.insert(0,\"..\")\n",
    "\n",
    "import matplotlib.pyplot as plt\n",
    "from matplotlib import rc\n",
    "\n",
    "macos = False\n",
    "if macos == True:\n",
    "    rc('font',**{'family':'sans-serif','sans-serif':['Computer Modern Roman']})\n",
    "    rc('text', usetex=True)\n",
    "\n",
    "# Font Size\n",
    "import matplotlib\n",
    "font = {'family' : 'DejaVu Sans',\n",
    "        'weight' : 'bold',\n",
    "        'size'   : 30}\n",
    "\n",
    "import cv2\n",
    "import numpy as np\n",
    "import string\n",
    "import random\n",
    "from natsort import natsorted\n",
    "import glob"
   ]
  },
  {
   "cell_type": "code",
   "execution_count": null,
   "metadata": {},
   "outputs": [],
   "source": [
    "def visualize(idx, idx_flag=True, **images):\n",
    "    \"\"\"Plot images in one row.\"\"\" \n",
    "    n = len(images)\n",
    "    fig = plt.figure(figsize=(60, 40))\n",
    "    for i, (name, image) in enumerate(images.items()):\n",
    "        plt.subplot(1, n, i + 1)\n",
    "        plt.xticks([])\n",
    "        plt.yticks([])\n",
    "        #if idx==0:\n",
    "        plt.title(' '.join(name.split('_')).lower(), fontsize=60)\n",
    "        if idx_flag:\n",
    "            if i ==0:\n",
    "                w,h = (1,25)\n",
    "                fs = 1.0\n",
    "                color = (0,0,0)\n",
    "                #color = (255,255,255)\n",
    "                font = cv2.FONT_HERSHEY_SIMPLEX #FONT_HERSHEY_DUPLEX  #press tab for different operations\n",
    "                cv2.putText(image, str(idx), (w,h), font, fs, color, 1, cv2.LINE_AA)\n",
    "        plt.imshow(image, cmap='gray')\n",
    "        plt.axis(\"off\")\n",
    "        #plt.tight_layout()\n",
    "    plt.savefig(\"../outputs/vis/decavton_pretrain_tryons/{}.png\".format(idx), facecolor=\"white\", bbox_inches = 'tight')\n",
    "    plt.show()\n",
    "    #plt.close()\n",
    "    \n",
    "    \n",
    "def make_dataset(dir):\n",
    "    images = []\n",
    "    assert os.path.isdir(dir), '%s is not a valid directory' % dir\n",
    "\n",
    "    # f = dir.split('/')[-1].split('_')[-1]\n",
    "    # #print (dir, f)\n",
    "    # dirs= os.listdir(dir)\n",
    "    # for img in dirs:\n",
    "\n",
    "    #     path = os.path.join(dir, img)\n",
    "    #     #print(path)\n",
    "    #     images.append(path)\n",
    "    images = natsorted(glob.glob(dir+ \"/\" + \"/*.png\"))\n",
    "    return images\n",
    "\n",
    "def read_image(path):\n",
    "    image = cv2.imread(path, -1)\n",
    "    image = cv2.cvtColor(image, cv2.COLOR_BGR2RGB)\n",
    "    return image\n",
    "\n",
    "def read_image_(path):\n",
    "    image = cv2.imread(path, -1)\n",
    "    image = cv2.cvtColor(image, cv2.COLOR_BGR2RGB)\n",
    "    image = cv2.resize(image, (192, 256))\n",
    "    return image"
   ]
  },
  {
   "cell_type": "code",
   "execution_count": null,
   "metadata": {},
   "outputs": [],
   "source": [
    "# Path to predictions\n",
    "voc_a1 = \"../checkpoint/analysis/prediction_visualizations/voc/rescm_paper_voc_base/\"\n",
    "voc_a2 = \"../checkpoint/analysis/prediction_visualizations/voc/masksup01_0.3,0.2,0.5_rescm_voc\"\n",
    "\n",
    "coco_a1 = \"../checkpoint/analysis/prediction_visualizations/coco/rescm_paper_coco_base/\"\n",
    "coco_a2 = \"../checkpoint/analysis/prediction_visualizations/coco/masksup01_0.3,0.2,0.5_rescm_coco\""
   ]
  },
  {
   "cell_type": "code",
   "execution_count": null,
   "metadata": {},
   "outputs": [],
   "source": [
    "# preds\n",
    "voc_idxs_small = [2,121,132,165,200]\n",
    "voc_idx_occ = [28,30,99,141,212]\n",
    "\n",
    "coco_idxs_small = [78,116,117,131,340]\n",
    "coco_idxs_occ = [8,166,268,302,394]"
   ]
  },
  {
   "cell_type": "code",
   "execution_count": null,
   "metadata": {},
   "outputs": [],
   "source": [
    "voc_a1_files = make_dataset(voc_a1)\n",
    "voc_a2_files = make_dataset(voc_a2)\n",
    "coco_a1_files = make_dataset(coco_a1)\n",
    "coco_a2_files = make_dataset(coco_a2)"
   ]
  },
  {
   "cell_type": "code",
   "execution_count": null,
   "metadata": {},
   "outputs": [],
   "source": [
    "idxs = [2,121,132,165,200,78,116,117,131,340,28,30,99,141,212,8,166,268,302,394]"
   ]
  },
  {
   "cell_type": "code",
   "execution_count": null,
   "metadata": {},
   "outputs": [],
   "source": [
    "len(idxs)"
   ]
  },
  {
   "cell_type": "code",
   "execution_count": null,
   "metadata": {},
   "outputs": [],
   "source": [
    "rows = int(len(idxs) / 5)\n",
    "cols = 10\n",
    "fig, axarr = plt.subplots(rows, cols, figsize=(35, 15), constrained_layout=True)\n",
    "\n",
    "\n",
    "alphabet_string = string.ascii_lowercase\n",
    "alphabet_list = list(alphabet_string)\n",
    "\n",
    "v = 0\n",
    "for r in range(rows):\n",
    "    if r == 0 or r == 2:\n",
    "        a=read_image(voc_a1_files[idxs[v+r]])\n",
    "        b=read_image(voc_a2_files[idxs[v+r]])\n",
    "\n",
    "        c=read_image(voc_a1_files[idxs[v+r+1]])\n",
    "        d=read_image(voc_a2_files[idxs[v+r+1]])\n",
    "\n",
    "        e=read_image(voc_a1_files[idxs[v+r+2]])\n",
    "        f=read_image(voc_a2_files[idxs[v+r+2]])\n",
    "\n",
    "        g=read_image(voc_a1_files[idxs[v+r+3]])\n",
    "        h=read_image(voc_a2_files[idxs[v+r+3]])\n",
    "\n",
    "        i=read_image(voc_a1_files[idxs[v+r+4]])\n",
    "        j=read_image(voc_a2_files[idxs[v+r+4]])\n",
    "    if r == 1 or r == 3:\n",
    "        a=read_image(coco_a1_files[idxs[v+r]])\n",
    "        b=read_image(coco_a2_files[idxs[v+r]])\n",
    "\n",
    "        c=read_image(coco_a1_files[idxs[v+r+1]])\n",
    "        d=read_image(coco_a2_files[idxs[v+r+1]])\n",
    "\n",
    "        e=read_image(coco_a1_files[idxs[v+r+2]])\n",
    "        f=read_image(coco_a2_files[idxs[v+r+2]])\n",
    "\n",
    "        g=read_image(coco_a1_files[idxs[v+r+3]])\n",
    "        h=read_image(coco_a2_files[idxs[v+r+3]])\n",
    "\n",
    "        i=read_image(coco_a1_files[idxs[v+r+4]])\n",
    "        j=read_image(coco_a2_files[idxs[v+r+4]])\n",
    "\n",
    "    v+=4\n",
    "    \n",
    "    images = [a,b,c,d,e,f,g,h,i,j]\n",
    "    \n",
    "    captions = [\"Baseline\",\"MaskSup\",\n",
    "    \"Baseline\",\"MaskSup\",\n",
    "    \"Baseline\",\"MaskSup\",\n",
    "    \"Baseline\",\"MaskSup\", \"Baseline\",\"MaskSup\"    \n",
    "    ]\n",
    "    \n",
    "    for c in range(cols):\n",
    "        axarr[r, c].imshow(images[c], cmap='gray')\n",
    "        axarr[r, c].axis(\"off\")\n",
    "        axarr[r, c].set_aspect('equal') \n",
    "        if r==0:\n",
    "            axarr[r, c].set_title(captions[c], fontsize=40)\n",
    "\n",
    "plt.savefig(\"../checkpoint/analysis/figures/compare_predictions.pdf\", facecolor=\"white\", bbox_inches = 'tight', dpi=300)"
   ]
  },
  {
   "cell_type": "markdown",
   "metadata": {},
   "source": [
    "### Masking helps predict non-masked regions"
   ]
  },
  {
   "cell_type": "code",
   "execution_count": null,
   "metadata": {},
   "outputs": [],
   "source": [
    "idxs_masked_preds_non_mask = [80,212,221,45,47,219]\n",
    "idxs = idxs_masked_preds_non_mask\n",
    "len(idxs)"
   ]
  },
  {
   "cell_type": "code",
   "execution_count": null,
   "metadata": {},
   "outputs": [],
   "source": [
    "# Path to predictions\n",
    "voc_a1 = \"../checkpoint/analysis/masked_prediction_visualizations/voc/rescm_paper_voc_base/\"\n",
    "voc_a2 = \"../checkpoint/analysis/masked_prediction_visualizations/voc/masksup01_0.3,0.2,0.5_rescm_voc\"\n",
    "\n",
    "coco_a1 = \"../checkpoint/analysis/masked_prediction_visualizations/coco/rescm_paper_coco_base/\"\n",
    "coco_a2 = \"../checkpoint/analysis/masked_prediction_visualizations/coco/masksup01_0.3,0.2,0.5_rescm_coco\"\n",
    "\n",
    "voc_a1_files = make_dataset(voc_a1)\n",
    "voc_a2_files = make_dataset(voc_a2)\n",
    "coco_a1_files = make_dataset(coco_a1)\n",
    "coco_a2_files = make_dataset(coco_a2)"
   ]
  },
  {
   "cell_type": "code",
   "execution_count": null,
   "metadata": {},
   "outputs": [],
   "source": [
    "rows = int(len(idxs) / 3)\n",
    "cols = 6\n",
    "fig, axarr = plt.subplots(rows, cols, figsize=(30, 10), constrained_layout=True)\n",
    "\n",
    "\n",
    "alphabet_string = string.ascii_lowercase\n",
    "alphabet_list = list(alphabet_string)\n",
    "\n",
    "v = 0\n",
    "for r in range(rows):\n",
    "    if r == 0 or r == 2:\n",
    "        a=read_image(voc_a1_files[idxs[v+r]])\n",
    "        b=read_image(voc_a2_files[idxs[v+r]])\n",
    "\n",
    "        c=read_image(voc_a1_files[idxs[v+r+1]])\n",
    "        d=read_image(voc_a2_files[idxs[v+r+1]])\n",
    "\n",
    "        e=read_image(voc_a1_files[idxs[v+r+2]])\n",
    "        f=read_image(voc_a2_files[idxs[v+r+2]])\n",
    "\n",
    "    if r == 1 or r == 3:\n",
    "        a=read_image(coco_a1_files[idxs[v+r]])\n",
    "        b=read_image(coco_a2_files[idxs[v+r]])\n",
    "\n",
    "        c=read_image(coco_a1_files[idxs[v+r+1]])\n",
    "        d=read_image(coco_a2_files[idxs[v+r+1]])\n",
    "\n",
    "        e=read_image(coco_a1_files[idxs[v+r+2]])\n",
    "        f=read_image(coco_a2_files[idxs[v+r+2]])\n",
    "\n",
    "    v+=1\n",
    "    \n",
    "    images = [a,b,c,d,e,f]\n",
    "    \n",
    "    captions = [\"Baseline\",\"MaskSup\",\n",
    "    \"Baseline\",\"MaskSup\",\n",
    "    \"Baseline\",\"MaskSup\"  \n",
    "    ]\n",
    "    \n",
    "    for c in range(cols):\n",
    "        axarr[r, c].imshow(images[c], cmap='gray')\n",
    "        axarr[r, c].axis(\"off\")\n",
    "        axarr[r, c].set_aspect('equal') \n",
    "        if r==0:\n",
    "            axarr[r, c].set_title(captions[c], fontsize=40)\n",
    "\n",
    "plt.savefig(\"../checkpoint/analysis/figures/compare_masked_preds_non_masked.pdf\", facecolor=\"white\", bbox_inches = 'tight', dpi=300)"
   ]
  },
  {
   "cell_type": "code",
   "execution_count": null,
   "metadata": {},
   "outputs": [],
   "source": []
  }
 ],
 "metadata": {
  "kernelspec": {
   "display_name": "Python 3.8.12 ('maskrec')",
   "language": "python",
   "name": "python3"
  },
  "language_info": {
   "codemirror_mode": {
    "name": "ipython",
    "version": 3
   },
   "file_extension": ".py",
   "mimetype": "text/x-python",
   "name": "python",
   "nbconvert_exporter": "python",
   "pygments_lexer": "ipython3",
   "version": "3.8.12"
  },
  "orig_nbformat": 4,
  "vscode": {
   "interpreter": {
    "hash": "35d972689a4ebd6112cf5bf9eea2c3bb189b2972b77b117bc02bba8b4bbbd65a"
   }
  }
 },
 "nbformat": 4,
 "nbformat_minor": 2
}
